{
 "cells": [
  {
   "cell_type": "markdown",
   "metadata": {},
   "source": [
    "# Prueba de permutaciones\n",
    "\n",
    "## Planteamiento del problema\n",
    "\n",
    "El test de permutaciones es un procedimiento robusto que se utiliza para comparar las medias de dos poblaciones. Aunque disponemos del test $t$ de Student para realizar este contraste, es bien sabido que descansa sobre la hipótesis de que las dos poblaciones a comparar son normales. Si no cumplen esta condición, y la muestra es grande, podemos utilizar la prueba asintótica. Si hay dudas sobre la normalidad de las poblaciones, o no estamos seguros de si la muestra es suficientemente grande para utilizar los resultados del Teorema Central del Límite, nos viene bien un test que no dependa de estas exigencias.\n",
    "\n",
    "El test de permutaciones es una técnica de remuestreo que no exige condiciones a la población y que utiliza la distribución empírica del estadístico de contraste para calcular su $p$-valor.\n",
    "\n",
    "Los datos se refieren a la longitud del caparazón de cierta especie de tortuga. Disponemos de una muestra extraída de entre los machos y otra de entre las hembras."
   ]
  },
  {
   "cell_type": "code",
   "execution_count": 1,
   "metadata": {},
   "outputs": [],
   "source": [
    "# Longitudes para los machos\n",
    "mach <- c(93,94,96,101,102,103,104,106,107,112,113,114,\n",
    "          116,117,117,119,120,120,121,125,127,128,131,135)\n",
    "\n",
    "# Longitudes para las hembras\n",
    "hemb <- c(98,103,103,105,109,123,123,133,133,133,134,136,\n",
    "          138,138,141,147,149,153,155,155,158,159,162,177)\n",
    "\n",
    "# Todos juntos conforman la población\n",
    "pobl <- c(mach, hemb)"
   ]
  },
  {
   "cell_type": "markdown",
   "metadata": {},
   "source": [
    "Las dos muestras, juntas, conformarán la población sobre la que hagamos un buen número de muestras. La variable `pobl` contiene todas las observaciones de uno de los sexos, seguidas de las observaciones del otro sexo.\n",
    "\n",
    "Almacenamos los tamaños muestrales de los tres vectores que tenemos definidos hasta ahora.\n"
   ]
  },
  {
   "cell_type": "code",
   "execution_count": 2,
   "metadata": {},
   "outputs": [],
   "source": [
    "n <- length(mach)\n",
    "m <- length(hemb)\n",
    "tot <- n + m"
   ]
  },
  {
   "cell_type": "markdown",
   "metadata": {},
   "source": [
    "Queremos hacer el contraste\n",
    "$$\n",
    "\\begin{array}{ll}\n",
    "H_0: & \\mu_M = \\mu_H\\\\\n",
    "H_1: & \\mu_M \\neq \\mu_H,\n",
    "\\end{array}\n",
    "$$\n",
    "para lo que utilizaremos como estadístico de contraste la diferencia de medias $d = \\mu_M - \\mu_H$. Calculamos entonces la diferencia de medias de las dos poblaciones, $d_0$. \n"
   ]
  },
  {
   "cell_type": "code",
   "execution_count": 3,
   "metadata": {},
   "outputs": [
    {
     "data": {
      "text/html": [
       "-22.6666666666667"
      ],
      "text/latex": [
       "-22.6666666666667"
      ],
      "text/markdown": [
       "-22.6666666666667"
      ],
      "text/plain": [
       "[1] -22.66667"
      ]
     },
     "metadata": {},
     "output_type": "display_data"
    }
   ],
   "source": [
    "d0 <- mean(mach) - mean(hemb)\n",
    "d0"
   ]
  },
  {
   "cell_type": "markdown",
   "metadata": {},
   "source": [
    "## La técnica del remuestreo\n",
    "\n",
    "Ahora es cuando empieza a funcionar la lógica del remuestreo. Si damos por cierta la hipótesis nula $H_0$ de que ambas poblaciones tienen igual media, reasignamos aleatoriamente las mediciones a cada uno de los sexos y volvemos a calcular las diferencias de las medias de los nuevos machos y hembras, los resultados deberían ser similares a $d_0$.\n",
    "\n",
    "Cada una de estas reasignaciones la podemos interpretar como una permutación del vector pobl o como la extracción de una muestra sin reemplazo de tamaño `tot`.\n"
   ]
  },
  {
   "cell_type": "code",
   "execution_count": 4,
   "metadata": {},
   "outputs": [
    {
     "data": {
      "text/html": [
       "<style>\n",
       ".list-inline {list-style: none; margin:0; padding: 0}\n",
       ".list-inline>li {display: inline-block}\n",
       ".list-inline>li:not(:last-child)::after {content: \"\\00b7\"; padding: 0 .5ex}\n",
       "</style>\n",
       "<ol class=list-inline><li>3.25</li><li>7.91666666666666</li><li>7.50000000000001</li><li>2.91666666666667</li><li>2.08333333333333</li></ol>\n"
      ],
      "text/latex": [
       "\\begin{enumerate*}\n",
       "\\item 3.25\n",
       "\\item 7.91666666666666\n",
       "\\item 7.50000000000001\n",
       "\\item 2.91666666666667\n",
       "\\item 2.08333333333333\n",
       "\\end{enumerate*}\n"
      ],
      "text/markdown": [
       "1. 3.25\n",
       "2. 7.91666666666666\n",
       "3. 7.50000000000001\n",
       "4. 2.91666666666667\n",
       "5. 2.08333333333333\n",
       "\n",
       "\n"
      ],
      "text/plain": [
       "[1] 3.250000 7.916667 7.500000 2.916667 2.083333"
      ]
     },
     "metadata": {},
     "output_type": "display_data"
    }
   ],
   "source": [
    "# tamaño del remuestreo\n",
    "B <- 10000\n",
    "\n",
    "# contenedor de las diferencias calculadas\n",
    "# para cada permutación.\n",
    "d <- c()\n",
    "\n",
    "for (i in 1:B) {\n",
    "    # primero permutamos\n",
    "    s <- sample(pobl, tot, replace = FALSE, prob = NULL)\n",
    "\n",
    "    # luego calculamos medias de los primeros n individuos,\n",
    "    # los machos, y los m últimos, las nuevas hembras\n",
    "    d[i] <- mean(head(s, n)) - mean(tail(s, m))\n",
    "    }\n",
    "\n",
    "# vemos las cinco primeras diferencias\n",
    "head(d,5)"
   ]
  },
  {
   "cell_type": "markdown",
   "metadata": {},
   "source": [
    "Representamos el histograma de las distancias, que nos puede servir como aproximación a la función de densidad de la distribución empírica, y le añadimos la posición de la diferencia $d_0$ real entre machos y hembras."
   ]
  },
  {
   "cell_type": "code",
   "execution_count": 5,
   "metadata": {},
   "outputs": [
    {
     "data": {
      "image/png": "[encoded data removed]",
      "text/plain": [
       "Plot with title “Histogram of d”"
      ]
     },
     "metadata": {
      "image/png": {
       "height": 420,
       "width": 420
      }
     },
     "output_type": "display_data"
    }
   ],
   "source": [
    "hist(d, col = \"gray\")\n",
    "abline(v=d0, col=\"red\")"
   ]
  },
  {
   "cell_type": "markdown",
   "metadata": {},
   "source": [
    "Vemos que la línea roja que marca la posición de $d_0$ queda en un lugar muy marginal. Si hacemos el recuento de la proporción de diferencias que, en valor absoluto, son mayores que $d_0$, tenemos la probabilidad crítica del contraste, \n",
    "$$\n",
    "p_v = \\frac{\\#\\{d: |d| \\geq |d_0|\\} + 1}{B+1},\n",
    "$$\n",
    "siendo $B$ el tamaño del remuestreo."
   ]
  },
  {
   "cell_type": "code",
   "execution_count": 6,
   "metadata": {},
   "outputs": [
    {
     "data": {
      "text/html": [
       "<dl>\n",
       "\t<dt>$d0</dt>\n",
       "\t\t<dd>-22.6666666666667</dd>\n",
       "\t<dt>$`p-valor`</dt>\n",
       "\t\t<dd>0.0002999700029997</dd>\n",
       "</dl>\n"
      ],
      "text/latex": [
       "\\begin{description}\n",
       "\\item[\\$d0] -22.6666666666667\n",
       "\\item[\\$`p-valor`] 0.0002999700029997\n",
       "\\end{description}\n"
      ],
      "text/markdown": [
       "$d0\n",
       ":   -22.6666666666667\n",
       "$`p-valor`\n",
       ":   0.0002999700029997\n",
       "\n",
       "\n"
      ],
      "text/plain": [
       "$d0\n",
       "[1] -22.66667\n",
       "\n",
       "$`p-valor`\n",
       "[1] 0.00029997\n"
      ]
     },
     "metadata": {},
     "output_type": "display_data"
    }
   ],
   "source": [
    "# Cálculo del p-valor\n",
    "abs.d0 <- abs(d0)\n",
    "abs.d <- abs(d)\n",
    "pv <- (length(abs.d[abs.d > abs.d0]) + 1) / (B + 1)\n",
    "\n",
    "# resultados\n",
    "list('d0' = d0, \"p-valor\"=pv)"
   ]
  },
  {
   "cell_type": "markdown",
   "metadata": {},
   "source": [
    "La diferencia de medias es muy significativa; más grande en la hembras que en los machos."
   ]
  },
  {
   "cell_type": "code",
   "execution_count": null,
   "metadata": {},
   "outputs": [],
   "source": []
  }
 ],
 "metadata": {
  "kernelspec": {
   "display_name": "R",
   "language": "R",
   "name": "ir"
  },
  "language_info": {
   "codemirror_mode": "r",
   "file_extension": ".r",
   "mimetype": "text/x-r-source",
   "name": "R",
   "pygments_lexer": "r",
   "version": "3.6.3"
  }
 },
 "nbformat": 4,
 "nbformat_minor": 2
}
