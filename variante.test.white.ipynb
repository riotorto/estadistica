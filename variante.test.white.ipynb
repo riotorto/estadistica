{
 "cells": [
  {
   "cell_type": "markdown",
   "metadata": {},
   "source": [
    "# Variante del test de homocedasticidad de White\n",
    "\n",
    "## Heterocedasticidad en la regresión lineal\n",
    "\n",
    "Sabemos que en el modelo clásico de regresión lineal, una de las condiciones que se le exige es que los errores sean homocedásticos, es decir, si $\\epsilon_i$ es el error de la $i$-ésima observación, y $x_{ij}$ el valor de la $j$-ésima variable explicativa correspondiente al individuo muestral $i$, con $i \\in \\{1, \\ldots, n\\}$ y $j \\in \\{1, \\ldots,  k\\}$, entonces\n",
    "$$\n",
    "Var(\\epsilon_i|x_{i1}, \\ldots, x_{ik}) = \\sigma^2, \\forall i, j.\n",
    "$$\n",
    "\n",
    "Bajo la condición de homocedasticidad, los errores estándar de los estimadores MCO (mínimos cuadráticos ordinarios) tienen las propiedades necesarias para hacer sobre ellos los contrastes habituales. Si la varianza no es constante, estamos en presencia de heterocedasticidad y los errores estándar pierden sus propiedades, lo que pone en duda la validez de los contrastes al uso, debiendo aplicar entonces métodos robustos.\n",
    "\n",
    "Se hace entonces necesario echar mano contrastes como el de Breusch-Pagan o el de White para comprobar si los errores son homocedásticos.\n",
    "\n",
    "\n",
    "## Contrastes de Breusch-Pagan y de White\n",
    "\n",
    "Puesto que en el modelo de regresión se supone que $E(\\epsilon_i|x_{i1}, \\ldots, x_{ik}) = 0$, nos queda que\n",
    "$$\n",
    "Var(\\epsilon_i|x_{i1}, \\ldots, x_{ik}) = E(\\epsilon_i^2|x_{i1}, \\ldots, x_{ik}),\n",
    "$$\n",
    "por lo que si es cierto que la varianza no depende de las variables explicativas, en el modelo de regresión\n",
    "$$\n",
    "\\epsilon_i^2 = \\alpha_0 + \\alpha_1 x_{i1} + \\alpha_2 x_{i2} + \\cdots + \\alpha_k x_{ik} + e_i,\n",
    "$$\n",
    "los coeficientes $\\alpha_j$ deberían ser todos nulos. El contraste se plantea en los términos\n",
    "$$\n",
    "\\left\\{\n",
    "\\begin{array}{l}\n",
    "H_0: \\alpha_j = 0, \\forall j \\\\\n",
    "H_1: \\exists j \\mbox{ t.q } \\alpha_j \\neq 0.\n",
    "\\end{array}\n",
    "\\right.\n",
    "$$\n",
    "$H_0$ equivale a la homocedasticidad y $H_1$ a la heterocedasticidad. El estadístico de contraste es\n",
    "$$\n",
    "LM = n \\cdot R^2 \\sim \\chi^2(k),\n",
    "$$\n",
    "siendo $R^2$ el coeficiente de determinación de la regresión de $\\epsilon_i^2$ sobre las variables independientes.\n",
    "\n",
    "R tiene ya este contraste,\n"
   ]
  },
  {
   "cell_type": "code",
   "execution_count": 12,
   "metadata": {},
   "outputs": [
    {
     "data": {
      "text/html": [
       "<table class=\"dataframe\">\n",
       "<caption>A data.frame: 6 × 4</caption>\n",
       "<thead>\n",
       "\t<tr><th></th><th scope=col>colGPA</th><th scope=col>hsGPA</th><th scope=col>ACT</th><th scope=col>alcohol</th></tr>\n",
       "\t<tr><th></th><th scope=col>&lt;dbl&gt;</th><th scope=col>&lt;dbl&gt;</th><th scope=col>&lt;int&gt;</th><th scope=col>&lt;dbl&gt;</th></tr>\n",
       "</thead>\n",
       "<tbody>\n",
       "\t<tr><th scope=row>1</th><td>3.0</td><td>3.0</td><td>21</td><td>1.0</td></tr>\n",
       "\t<tr><th scope=row>2</th><td>3.4</td><td>3.2</td><td>24</td><td>1.0</td></tr>\n",
       "\t<tr><th scope=row>3</th><td>3.0</td><td>3.6</td><td>26</td><td>1.0</td></tr>\n",
       "\t<tr><th scope=row>4</th><td>3.5</td><td>3.5</td><td>27</td><td>0.0</td></tr>\n",
       "\t<tr><th scope=row>5</th><td>3.6</td><td>3.9</td><td>28</td><td>1.5</td></tr>\n",
       "\t<tr><th scope=row>6</th><td>3.0</td><td>3.4</td><td>25</td><td>0.0</td></tr>\n",
       "</tbody>\n",
       "</table>\n"
      ],
      "text/latex": [
       "A data.frame: 6 × 4\n",
       "\\begin{tabular}{r|llll}\n",
       "  & colGPA & hsGPA & ACT & alcohol\\\\\n",
       "  & <dbl> & <dbl> & <int> & <dbl>\\\\\n",
       "\\hline\n",
       "\t1 & 3.0 & 3.0 & 21 & 1.0\\\\\n",
       "\t2 & 3.4 & 3.2 & 24 & 1.0\\\\\n",
       "\t3 & 3.0 & 3.6 & 26 & 1.0\\\\\n",
       "\t4 & 3.5 & 3.5 & 27 & 0.0\\\\\n",
       "\t5 & 3.6 & 3.9 & 28 & 1.5\\\\\n",
       "\t6 & 3.0 & 3.4 & 25 & 0.0\\\\\n",
       "\\end{tabular}\n"
      ],
      "text/markdown": [
       "\n",
       "A data.frame: 6 × 4\n",
       "\n",
       "| <!--/--> | colGPA &lt;dbl&gt; | hsGPA &lt;dbl&gt; | ACT &lt;int&gt; | alcohol &lt;dbl&gt; |\n",
       "|---|---|---|---|---|\n",
       "| 1 | 3.0 | 3.0 | 21 | 1.0 |\n",
       "| 2 | 3.4 | 3.2 | 24 | 1.0 |\n",
       "| 3 | 3.0 | 3.6 | 26 | 1.0 |\n",
       "| 4 | 3.5 | 3.5 | 27 | 0.0 |\n",
       "| 5 | 3.6 | 3.9 | 28 | 1.5 |\n",
       "| 6 | 3.0 | 3.4 | 25 | 0.0 |\n",
       "\n"
      ],
      "text/plain": [
       "  colGPA hsGPA ACT alcohol\n",
       "1 3.0    3.0   21  1.0    \n",
       "2 3.4    3.2   24  1.0    \n",
       "3 3.0    3.6   26  1.0    \n",
       "4 3.5    3.5   27  0.0    \n",
       "5 3.6    3.9   28  1.5    \n",
       "6 3.0    3.4   25  0.0    "
      ]
     },
     "metadata": {},
     "output_type": "display_data"
    },
    {
     "data": {
      "text/plain": [
       "\n",
       "Call:\n",
       "lm(formula = colGPA ~ hsGPA + ACT + alcohol, data = datos)\n",
       "\n",
       "Residuals:\n",
       "     Min       1Q   Median       3Q      Max \n",
       "-0.84870 -0.25571 -0.02872  0.27773  0.83642 \n",
       "\n",
       "Coefficients:\n",
       "            Estimate Std. Error t value Pr(>|t|)    \n",
       "(Intercept) 1.278706   0.342886   3.729  0.00028 ***\n",
       "hsGPA       0.456741   0.096747   4.721 5.73e-06 ***\n",
       "ACT         0.008771   0.011030   0.795  0.42787    \n",
       "alcohol     0.006456   0.021435   0.301  0.76372    \n",
       "---\n",
       "Signif. codes:  0 ‘***’ 0.001 ‘**’ 0.01 ‘*’ 0.05 ‘.’ 0.1 ‘ ’ 1\n",
       "\n",
       "Residual standard error: 0.3414 on 137 degrees of freedom\n",
       "Multiple R-squared:  0.177,\tAdjusted R-squared:  0.1589 \n",
       "F-statistic: 9.819 on 3 and 137 DF,  p-value: 6.555e-06\n"
      ]
     },
     "metadata": {},
     "output_type": "display_data"
    },
    {
     "data": {
      "text/plain": [
       "\n",
       "\tstudentized Breusch-Pagan test\n",
       "\n",
       "data:  mod\n",
       "BP = 1.1124, df = 3, p-value = 0.7741\n"
      ]
     },
     "metadata": {},
     "output_type": "display_data"
    }
   ],
   "source": [
    "# Lectura de datos del texto de Wooldridge\n",
    "library(wooldridge)\n",
    "data(gpa1)\n",
    "datos <- gpa1[,c('colGPA', 'hsGPA', 'ACT', 'alcohol')]\n",
    "head(datos)\n",
    "\n",
    "# Ajuste MCO\n",
    "mod <- lm(colGPA ~ hsGPA + ACT + alcohol, data = datos)\n",
    "summary(mod)\n",
    "\n",
    "# Contraste Breusch-Pagan\n",
    "library(lmtest)\n",
    "bptest(mod)"
   ]
  },
  {
   "cell_type": "markdown",
   "metadata": {},
   "source": [
    "Con este resultado, mantendríamos la hipótesis de homocedasticidad.\n",
    "\n",
    "El contraste de White extiende el de Breusch-Pagan añadiendo a la ecuación de regresión de $\\epsilon_i^2$ los términos cuadráticos y todas las interacciones de orden dos, lo que puede hacer que el número total de términos aumente considerablemente."
   ]
  },
  {
   "cell_type": "code",
   "execution_count": 13,
   "metadata": {},
   "outputs": [
    {
     "data": {
      "text/plain": [
       "\n",
       "\tstudentized Breusch-Pagan test\n",
       "\n",
       "data:  mod\n",
       "BP = 5.8921, df = 9, p-value = 0.7507\n"
      ]
     },
     "metadata": {},
     "output_type": "display_data"
    }
   ],
   "source": [
    "# Contraste de White\n",
    "bptest(mod, ~ hsGPA * ACT * alcohol - hsGPA:ACT:alcohol + \n",
    "              I(hsGPA^2) + I(ACT^2) + I(alcohol^2), data = datos)"
   ]
  },
  {
   "cell_type": "markdown",
   "metadata": {},
   "source": [
    "Seguimos manteniendo como válida la homocedasticidad."
   ]
  },
  {
   "cell_type": "markdown",
   "metadata": {},
   "source": [
    "## Variante del contraste de White\n",
    "\n",
    "Wooldridge ([[1]](#1), pág. 272) expone una variante basada en utilizar los valores ajustados\n",
    "$$\n",
    "\\hat{y}_i = \\hat{\\beta}_0 + \\hat{\\beta}_1 x_{i1} + \\cdots + \\hat{\\beta}_k x_{ik},\n",
    "$$\n",
    "haciendo el contraste de homocedasticidad para la regresión\n",
    "$$\n",
    "\\epsilon_i^2 = \\alpha_0 + \\alpha_1 \\hat{y}_i + \\alpha_2 \\hat{y}_i^2 + e_i.\n",
    "$$\n",
    "Se plantea entonces el contraste\n",
    "$$\n",
    "\\left\\{\n",
    "\\begin{array}{l}\n",
    "H_0: \\alpha_1 = \\alpha_2 = 0 \\\\\n",
    "H_1: \\alpha_1 \\neq 0 \\mbox{ o } \\alpha_2 \\neq 0,\n",
    "\\end{array}\n",
    "\\right.\n",
    "$$\n",
    "que equivale al contraste global de regresión $F$, con 2 y $n-3$ grados de libertad."
   ]
  },
  {
   "cell_type": "code",
   "execution_count": 15,
   "metadata": {},
   "outputs": [
    {
     "data": {
      "text/plain": [
       "\n",
       "Call:\n",
       "lm(formula = eps2 ~ yhat + I(yhat^2))\n",
       "\n",
       "Residuals:\n",
       "     Min       1Q   Median       3Q      Max \n",
       "-0.14833 -0.09459 -0.04416  0.04355  0.60560 \n",
       "\n",
       "Coefficients:\n",
       "            Estimate Std. Error t value Pr(>|t|)\n",
       "(Intercept)   3.5414     3.5200   1.006    0.316\n",
       "yhat         -2.3331     2.3176  -1.007    0.316\n",
       "I(yhat^2)     0.3953     0.3809   1.038    0.301\n",
       "\n",
       "Residual standard error: 0.1377 on 138 degrees of freedom\n",
       "Multiple R-squared:  0.01426,\tAdjusted R-squared:  -2.82e-05 \n",
       "F-statistic: 0.998 on 2 and 138 DF,  p-value: 0.3713\n"
      ]
     },
     "metadata": {},
     "output_type": "display_data"
    }
   ],
   "source": [
    "# Los residuos y los valores ajustados los tenemos en mod\n",
    "\n",
    "# Los cuadrados de los residuos son\n",
    "eps2 <- mod$residuals^2\n",
    "\n",
    "# Los valores ajustados son\n",
    "yhat <- mod$fitted.values\n",
    "\n",
    "# Hacemos la regresión propuesta para la variante de White\n",
    "summary(lm(eps2 ~ yhat + I(yhat^2)))"
   ]
  },
  {
   "cell_type": "markdown",
   "metadata": {},
   "source": [
    "El contraste global de regresión arroja un $p$-valor de 0.3713, por lo que no hay indicios que nos lleven a rehazar la hipótesis nula $H_0: \\alpha_1 = \\alpha_2 = 0$, resultado compatible con el de Breusch-Pagan y White.\n",
    "\n",
    "La ventaja de esta variante es que nos permite hacer el contraste de White con mayor número de variables explicativas, sin complicar el código."
   ]
  },
  {
   "cell_type": "markdown",
   "metadata": {},
   "source": [
    "## Bibliografía\n",
    "<a id=\"1\">[1]</a> \n",
    "Wooldridge, Jeffrey. (2020)\n",
    "Introductory Econometrics. A Modern Approach.\n",
    "7ª Edición. Cengage.\n"
   ]
  }
 ],
 "metadata": {
  "kernelspec": {
   "display_name": "R",
   "language": "R",
   "name": "ir"
  },
  "language_info": {
   "codemirror_mode": "r",
   "file_extension": ".r",
   "mimetype": "text/x-r-source",
   "name": "R",
   "pygments_lexer": "r",
   "version": "3.6.3"
  }
 },
 "nbformat": 4,
 "nbformat_minor": 2
}
